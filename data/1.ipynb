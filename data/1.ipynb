{
 "cells": [
  {
   "cell_type": "code",
   "execution_count": 2,
   "metadata": {},
   "outputs": [],
   "source": [
    "import pandas as pd\n",
    "import json\n",
    "\n",
    "\n",
    "COMPMIX_IR_PATH = \"CompMix-IR/kb_wikipedia_mixed_rd.json\""
   ]
  },
  {
   "cell_type": "code",
   "execution_count": 3,
   "metadata": {},
   "outputs": [
    {
     "data": {
      "text/html": [
       "<div>\n",
       "<style scoped>\n",
       "    .dataframe tbody tr th:only-of-type {\n",
       "        vertical-align: middle;\n",
       "    }\n",
       "\n",
       "    .dataframe tbody tr th {\n",
       "        vertical-align: top;\n",
       "    }\n",
       "\n",
       "    .dataframe thead th {\n",
       "        text-align: right;\n",
       "    }\n",
       "</style>\n",
       "<table border=\"1\" class=\"dataframe\">\n",
       "  <thead>\n",
       "    <tr style=\"text-align: right;\">\n",
       "      <th></th>\n",
       "      <th>evidence_text</th>\n",
       "      <th>wikidata_entities</th>\n",
       "      <th>disambiguations</th>\n",
       "      <th>retrieved_for_entity</th>\n",
       "      <th>source</th>\n",
       "    </tr>\n",
       "  </thead>\n",
       "  <tbody>\n",
       "    <tr>\n",
       "      <th>0</th>\n",
       "      <td>2018 Pulitzer Prize, instance of, award ceremony</td>\n",
       "      <td>[{'id': 'Q54935007', 'label': '2018 Pulitzer P...</td>\n",
       "      <td>[[2018 Pulitzer Prize, Q54935007], [award cere...</td>\n",
       "      <td>{'id': 'Q54935007', 'label': '2018 Pulitzer Pr...</td>\n",
       "      <td>kb</td>\n",
       "    </tr>\n",
       "    <tr>\n",
       "      <th>1</th>\n",
       "      <td>2018 Pulitzer Prize, part of the series, Pulit...</td>\n",
       "      <td>[{'id': 'Q54935007', 'label': '2018 Pulitzer P...</td>\n",
       "      <td>[[2018 Pulitzer Prize, Q54935007], [Pulitzer P...</td>\n",
       "      <td>{'id': 'Q54935007', 'label': '2018 Pulitzer Pr...</td>\n",
       "      <td>kb</td>\n",
       "    </tr>\n",
       "    <tr>\n",
       "      <th>2</th>\n",
       "      <td>2018 Pulitzer Prize, Commons category, \"2018 P...</td>\n",
       "      <td>[{'id': 'Q54935007', 'label': '2018 Pulitzer P...</td>\n",
       "      <td>[[2018 Pulitzer Prize, Q54935007]]</td>\n",
       "      <td>{'id': 'Q54935007', 'label': '2018 Pulitzer Pr...</td>\n",
       "      <td>kb</td>\n",
       "    </tr>\n",
       "    <tr>\n",
       "      <th>3</th>\n",
       "      <td>2018 Pulitzer Prize, point in time, \"2018-01-0...</td>\n",
       "      <td>[{'id': 'Q54935007', 'label': '2018 Pulitzer P...</td>\n",
       "      <td>[[2018 Pulitzer Prize, Q54935007]]</td>\n",
       "      <td>{'id': 'Q54935007', 'label': '2018 Pulitzer Pr...</td>\n",
       "      <td>kb</td>\n",
       "    </tr>\n",
       "    <tr>\n",
       "      <th>4</th>\n",
       "      <td>2018 Pulitzer Prize, follows, 2017 Pulitzer Prize</td>\n",
       "      <td>[{'id': 'Q54935007', 'label': '2018 Pulitzer P...</td>\n",
       "      <td>[[2018 Pulitzer Prize, Q54935007], [2017 Pulit...</td>\n",
       "      <td>{'id': 'Q54935007', 'label': '2018 Pulitzer Pr...</td>\n",
       "      <td>kb</td>\n",
       "    </tr>\n",
       "  </tbody>\n",
       "</table>\n",
       "</div>"
      ],
      "text/plain": [
       "                                       evidence_text  \\\n",
       "0   2018 Pulitzer Prize, instance of, award ceremony   \n",
       "1  2018 Pulitzer Prize, part of the series, Pulit...   \n",
       "2  2018 Pulitzer Prize, Commons category, \"2018 P...   \n",
       "3  2018 Pulitzer Prize, point in time, \"2018-01-0...   \n",
       "4  2018 Pulitzer Prize, follows, 2017 Pulitzer Prize   \n",
       "\n",
       "                                   wikidata_entities  \\\n",
       "0  [{'id': 'Q54935007', 'label': '2018 Pulitzer P...   \n",
       "1  [{'id': 'Q54935007', 'label': '2018 Pulitzer P...   \n",
       "2  [{'id': 'Q54935007', 'label': '2018 Pulitzer P...   \n",
       "3  [{'id': 'Q54935007', 'label': '2018 Pulitzer P...   \n",
       "4  [{'id': 'Q54935007', 'label': '2018 Pulitzer P...   \n",
       "\n",
       "                                     disambiguations  \\\n",
       "0  [[2018 Pulitzer Prize, Q54935007], [award cere...   \n",
       "1  [[2018 Pulitzer Prize, Q54935007], [Pulitzer P...   \n",
       "2                 [[2018 Pulitzer Prize, Q54935007]]   \n",
       "3                 [[2018 Pulitzer Prize, Q54935007]]   \n",
       "4  [[2018 Pulitzer Prize, Q54935007], [2017 Pulit...   \n",
       "\n",
       "                                retrieved_for_entity source  \n",
       "0  {'id': 'Q54935007', 'label': '2018 Pulitzer Pr...     kb  \n",
       "1  {'id': 'Q54935007', 'label': '2018 Pulitzer Pr...     kb  \n",
       "2  {'id': 'Q54935007', 'label': '2018 Pulitzer Pr...     kb  \n",
       "3  {'id': 'Q54935007', 'label': '2018 Pulitzer Pr...     kb  \n",
       "4  {'id': 'Q54935007', 'label': '2018 Pulitzer Pr...     kb  "
      ]
     },
     "execution_count": 3,
     "metadata": {},
     "output_type": "execute_result"
    }
   ],
   "source": [
    "df = pd.read_json(COMPMIX_IR_PATH)\n",
    "\n",
    "df.head()"
   ]
  },
  {
   "cell_type": "code",
   "execution_count": 5,
   "metadata": {},
   "outputs": [
    {
     "data": {
      "text/plain": [
       "array(['When Harry Met Sally..., Award is Academy Awards, Category is Best Screenplay – Written Directly for the Screen, Nominee(s) is Nora Ephron, Result is , Ref. is ',\n",
       "       list([{'id': 'Q17437798', 'label': 'good article'}, {'id': 'Q17506997', 'label': 'featured list'}, {'id': 'Q41417', 'label': 'Academy Award for Best Writing, Original Screenplay'}, {'id': 'Q214677', 'label': 'Nora Ephron'}]),\n",
       "       list([['Best Screenplay – Written Directly for the Screen', 'Q41417'], ['Academy Awards', 'Q17506997'], ['Nora Ephron', 'Q214677'], ['When Harry Met Sally...', 'Q17437798']]),\n",
       "       {'id': 'Q471169'}, 'table'], dtype=object)"
      ]
     },
     "execution_count": 5,
     "metadata": {},
     "output_type": "execute_result"
    }
   ],
   "source": [
    "df[df['source'] == 'table'].values[0]"
   ]
  },
  {
   "cell_type": "code",
   "execution_count": 6,
   "metadata": {},
   "outputs": [
    {
     "data": {
      "text/plain": [
       "array(['kb', 'info', 'table', 'text'], dtype=object)"
      ]
     },
     "execution_count": 6,
     "metadata": {},
     "output_type": "execute_result"
    }
   ],
   "source": [
    "df['source'].unique()"
   ]
  },
  {
   "cell_type": "code",
   "execution_count": 9,
   "metadata": {},
   "outputs": [],
   "source": [
    "import json\n",
    "\n",
    "# 创建一个字典来存储每种数据的示例数据\n",
    "example_data = {}\n",
    "\n",
    "for i in df['source'].unique():\n",
    "    example_data[i] = dict(zip(df.columns, df[df['source'] == i].values[0]))\n",
    "\n",
    "# 将字典保存到json文件中\n",
    "with open('CompMix-IR/CompMix-IR_example.json', 'w', encoding='utf-8') as f:\n",
    "    json.dump(example_data, f, ensure_ascii=False, indent=2)\n"
   ]
  }
 ],
 "metadata": {
  "kernelspec": {
   "display_name": "tablerag",
   "language": "python",
   "name": "python3"
  },
  "language_info": {
   "codemirror_mode": {
    "name": "ipython",
    "version": 3
   },
   "file_extension": ".py",
   "mimetype": "text/x-python",
   "name": "python",
   "nbconvert_exporter": "python",
   "pygments_lexer": "ipython3",
   "version": "3.11.11"
  }
 },
 "nbformat": 4,
 "nbformat_minor": 2
}
